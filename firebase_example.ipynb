{
 "cells": [
  {
   "cell_type": "code",
   "execution_count": 22,
   "metadata": {
    "collapsed": false
   },
   "outputs": [],
   "source": [
    "import requests\n",
    "import json"
   ]
  },
  {
   "cell_type": "code",
   "execution_count": 23,
   "metadata": {
    "collapsed": true
   },
   "outputs": [],
   "source": [
    "user_url='https://feedback-f33cf.firebaseio.com/users.json'\n",
    "article_url='https://feedback-f33cf.firebaseio.com/articles.json'\n",
    "reader_url='https://feedback-f33cf.firebaseio.com/readers.json'\n",
    "users=json.loads(requests.get(url=user_url).text)\n",
    "articles=json.loads(requests.get(url=article_url).text)\n",
    "readers=json.loads(requests.get(url=reader_url).text)"
   ]
  },
  {
   "cell_type": "code",
   "execution_count": 24,
   "metadata": {
    "collapsed": false
   },
   "outputs": [
    {
     "name": "stdout",
     "output_type": "stream",
     "text": [
      "{\n",
      "    \"101144603276974263511\": {\n",
      "        \"articles\": {\n",
      "            \"1061069954\": true,\n",
      "            \"1635965343\": true\n",
      "        },\n",
      "        \"email\": \"rbjennings86@gmail.com\"\n",
      "    },\n",
      "    \"103440541182310425020\": {\n",
      "        \"articles\": {\n",
      "            \"-1773872183\": {\n",
      "                \"dateRead\": 1485563482060\n",
      "            },\n",
      "            \"-285585864\": {\n",
      "                \"dateRead\": 1485679518715\n",
      "            },\n",
      "            \"1736494591\": {\n",
      "                \"dateRead\": 1485618788192\n",
      "            },\n",
      "            \"2053527492\": {\n",
      "                \"dateRead\": 1485563285868\n",
      "            }\n",
      "        },\n",
      "        \"email\": \"garrett.berntsen@gmail.com\"\n",
      "    },\n",
      "    \"106643808747789177664\": {\n",
      "        \"articles\": {\n",
      "            \"996364561\": {\n",
      "                \"dateRead\": 1485559899314\n",
      "            },\n",
      "            \"1736494591\": {\n",
      "                \"dateRead\": 1485619086041\n",
      "            }\n",
      "        },\n",
      "        \"email\": \"nkgilley@gmail.com\"\n",
      "    }\n",
      "}\n"
     ]
    }
   ],
   "source": [
    "print(json.dumps(users, indent=4))"
   ]
  },
  {
   "cell_type": "code",
   "execution_count": 25,
   "metadata": {
    "collapsed": false
   },
   "outputs": [
    {
     "name": "stdout",
     "output_type": "stream",
     "text": [
      "101144603276974263511: rbjennings86@gmail.com\n",
      "103440541182310425020: garrett.berntsen@gmail.com\n",
      "106643808747789177664: nkgilley@gmail.com\n"
     ]
    }
   ],
   "source": [
    "# for key,value in dict.items():\n",
    "for user_id, user in users.items():\n",
    "    print(user_id + \": \" + user['email'])"
   ]
  },
  {
   "cell_type": "code",
   "execution_count": 26,
   "metadata": {
    "collapsed": false
   },
   "outputs": [
    {
     "name": "stdout",
     "output_type": "stream",
     "text": [
      "-1773872183: Trump and Mexican President Speak by Phone Amid Dispute Over Wall\n",
      "-285585864: After Trump Order, Some Lawmakers Speak Out, While Others Remain Silent\n",
      "996364561: A few snow chances over the next week we need to keep our eye on\n",
      "1061069954: Judge Allows Lawsuit Against Psychologists in C.I.A. Torture Case\n",
      "1635965343: Travelers Stranded and Protests Swell Over Trump Order\n",
      "1736494591: Trump bars Syrian refugees, halts entry of citizens from some Muslim states - POLITICO\n",
      "2053527492: Obstacles Remain in Talks to Settle\n",
      "\t\t\n",
      "\t\t\t\n",
      "\t\t\n",
      "\tWal-Mart Bribery Probe\n"
     ]
    }
   ],
   "source": [
    "for article_id, article in articles.items():\n",
    "    print(article_id + \": \" + article['title'])"
   ]
  },
  {
   "cell_type": "code",
   "execution_count": 27,
   "metadata": {
    "collapsed": false
   },
   "outputs": [
    {
     "name": "stdout",
     "output_type": "stream",
     "text": [
      "-1773872183: {'103440541182310425020': True}\n",
      "-285585864: {'103440541182310425020': True}\n",
      "996364561: {'106643808747789177664': True}\n",
      "1061069954: {'101144603276974263511': True}\n",
      "1635965343: {'101144603276974263511': True}\n",
      "1736494591: {'103440541182310425020': True, '106643808747789177664': True}\n",
      "2053527492: {'103440541182310425020': True}\n"
     ]
    }
   ],
   "source": [
    "for article_id, reader in readers.items():\n",
    "    print(article_id + \": \" + str(reader))"
   ]
  },
  {
   "cell_type": "code",
   "execution_count": 28,
   "metadata": {
    "collapsed": false
   },
   "outputs": [
    {
     "data": {
      "text/plain": [
       "{'articles': {'1061069954': True, '1635965343': True},\n",
       " 'email': 'rbjennings86@gmail.com'}"
      ]
     },
     "execution_count": 28,
     "metadata": {},
     "output_type": "execute_result"
    }
   ],
   "source": [
    "ben = users['101144603276974263511']\n",
    "ben"
   ]
  },
  {
   "cell_type": "code",
   "execution_count": 29,
   "metadata": {
    "collapsed": false
   },
   "outputs": [
    {
     "data": {
      "text/plain": [
       "{'1061069954': True, '1635965343': True}"
      ]
     },
     "execution_count": 29,
     "metadata": {},
     "output_type": "execute_result"
    }
   ],
   "source": [
    "ben['articles']\n"
   ]
  },
  {
   "cell_type": "code",
   "execution_count": 30,
   "metadata": {
    "collapsed": false
   },
   "outputs": [
    {
     "name": "stdout",
     "output_type": "stream",
     "text": [
      "Judge Allows Lawsuit Against Psychologists in C.I.A. Torture Case\n",
      "Travelers Stranded and Protests Swell Over Trump Order\n"
     ]
    }
   ],
   "source": [
    "for key,value in ben['articles'].items():\n",
    "    print(articles[key]['title'])"
   ]
  },
  {
   "cell_type": "code",
   "execution_count": 33,
   "metadata": {
    "collapsed": false
   },
   "outputs": [
    {
     "name": "stdout",
     "output_type": "stream",
     "text": [
      "rbjennings86@gmail.com: \n",
      "\tJudge Allows Lawsuit Against Psychologists in C.I.A. Torture Case\n",
      "\tTravelers Stranded and Protests Swell Over Trump Order\n",
      "garrett.berntsen@gmail.com: \n",
      "\tTrump and Mexican President Speak by Phone Amid Dispute Over Wall\n",
      "\tAfter Trump Order, Some Lawmakers Speak Out, While Others Remain Silent\n",
      "\tTrump bars Syrian refugees, halts entry of citizens from some Muslim states - POLITICO\n",
      "\tObstacles Remain in Talks to Settle\n",
      "\t\t\n",
      "\t\t\t\n",
      "\t\t\n",
      "\tWal-Mart Bribery Probe\n",
      "nkgilley@gmail.com: \n",
      "\tA few snow chances over the next week we need to keep our eye on\n",
      "\tTrump bars Syrian refugees, halts entry of citizens from some Muslim states - POLITICO\n"
     ]
    }
   ],
   "source": [
    "# print all articles read for each user\n",
    "for user_id, user_data in users.items():\n",
    "    print(user_data['email'] + \": \")\n",
    "    for article_id, article_data in user_data['articles'].items():\n",
    "        print(\"\\t\" + articles[article_id]['title'])\n"
   ]
  },
  {
   "cell_type": "code",
   "execution_count": 32,
   "metadata": {
    "collapsed": false
   },
   "outputs": [
    {
     "name": "stdout",
     "output_type": "stream",
     "text": [
      "rbjennings86@gmail.com\n",
      "garrett.berntsen@gmail.com\n",
      "nkgilley@gmail.com\n"
     ]
    }
   ],
   "source": [
    "for user_id, user_data in users.items():\n",
    "    print(user_data['email'])\n",
    "    "
   ]
  },
  {
   "cell_type": "code",
   "execution_count": null,
   "metadata": {
    "collapsed": true
   },
   "outputs": [],
   "source": []
  }
 ],
 "metadata": {
  "kernelspec": {
   "display_name": "Python 3",
   "language": "python",
   "name": "python3"
  },
  "language_info": {
   "codemirror_mode": {
    "name": "ipython",
    "version": 3
   },
   "file_extension": ".py",
   "mimetype": "text/x-python",
   "name": "python",
   "nbconvert_exporter": "python",
   "pygments_lexer": "ipython3",
   "version": "3.6.0"
  }
 },
 "nbformat": 4,
 "nbformat_minor": 2
}
